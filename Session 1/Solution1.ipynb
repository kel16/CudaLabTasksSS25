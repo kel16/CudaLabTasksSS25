{
 "cells": [
  {
   "cell_type": "markdown",
   "id": "e8527654",
   "metadata": {},
   "source": [
    "# Assignment 1"
   ]
  },
  {
   "cell_type": "code",
   "execution_count": 1,
   "id": "628ed101",
   "metadata": {},
   "outputs": [],
   "source": [
    "%load_ext autoreload\n",
    "%autoreload 2"
   ]
  },
  {
   "cell_type": "code",
   "execution_count": 2,
   "id": "5a18d14f",
   "metadata": {},
   "outputs": [],
   "source": [
    "import numpy as np\n",
    "import pandas as pd\n",
    "import matplotlib.pyplot as plt\n",
    "\n",
    "import torch\n",
    "import torch.nn as nn\n",
    "import torchvision.transforms as transforms\n",
    "import torchvision.datasets as datasets"
   ]
  },
  {
   "cell_type": "code",
   "execution_count": 3,
   "id": "987f0e23",
   "metadata": {},
   "outputs": [
    {
     "data": {
      "text/plain": [
       "device(type='cuda')"
      ]
     },
     "execution_count": 3,
     "metadata": {},
     "output_type": "execute_result"
    }
   ],
   "source": [
    "device = torch.device(\"cuda\" if torch.cuda.is_available() else \"cpu\")\n",
    "\n",
    "device"
   ]
  },
  {
   "cell_type": "markdown",
   "id": "b9ba2897",
   "metadata": {},
   "source": [
    "Define constants and training parameters:"
   ]
  },
  {
   "cell_type": "code",
   "execution_count": null,
   "id": "996e2cb5",
   "metadata": {},
   "outputs": [],
   "source": [
    "DATASET_PATH = './data'\n",
    "\n",
    "BATCH_SIZE = 1024\n",
    "SHUFFLE_TRAIN = True\n",
    "\n",
    "NUM_EPOCHS = 10"
   ]
  },
  {
   "cell_type": "markdown",
   "id": "bd5add5a",
   "metadata": {},
   "source": [
    "## Task 1\n",
    "\n",
    "Train and compare the following models on the CIFAR-10 dataset (available in PyTorch). The models should have slightly optimized parameters to try to maximize their performance."
   ]
  },
  {
   "cell_type": "markdown",
   "id": "c9e2dd6a",
   "metadata": {},
   "source": [
    "### Load dataset"
   ]
  },
  {
   "cell_type": "code",
   "execution_count": 5,
   "id": "c6812843",
   "metadata": {},
   "outputs": [
    {
     "name": "stderr",
     "output_type": "stream",
     "text": [
      "100%|██████████| 170M/170M [02:13<00:00, 1.27MB/s] \n"
     ]
    }
   ],
   "source": [
    "train_dataset = datasets.CIFAR10(root=DATASET_PATH, train=True, transform=transforms.ToTensor(), download=True)\n",
    "test_dataset = datasets.CIFAR10(root=DATASET_PATH, train=False, transform=transforms.ToTensor(), download=True)"
   ]
  },
  {
   "cell_type": "code",
   "execution_count": 6,
   "id": "3144f264",
   "metadata": {},
   "outputs": [],
   "source": [
    "train_loader = torch.utils.data.DataLoader(\n",
    "        dataset=train_dataset,\n",
    "        batch_size=BATCH_SIZE,\n",
    "        shuffle=SHUFFLE_TRAIN\n",
    "    )\n",
    "\n",
    "eval_loader = torch.utils.data.DataLoader(\n",
    "        dataset=test_dataset,\n",
    "        batch_size=BATCH_SIZE,\n",
    "        shuffle=False,\n",
    "        # drop_last=True\n",
    "    )"
   ]
  },
  {
   "cell_type": "markdown",
   "id": "21aa6f3e",
   "metadata": {},
   "source": [
    "### MLP"
   ]
  },
  {
   "cell_type": "code",
   "execution_count": null,
   "id": "5545a630",
   "metadata": {},
   "outputs": [
    {
     "name": "stdout",
     "output_type": "stream",
     "text": [
      "input dim=3072, output dim=10, hidden=2054\n"
     ]
    }
   ],
   "source": [
    "LR = 1e-4\n",
    "\n",
    "INPUT_DIM = np.prod(train_dataset.data.shape[-3:]) # 32*32*3\n",
    "OUTPUT_DIM = len(set(train_dataset.targets)) # 10\n",
    "\n",
    "hidden_dim = int((INPUT_DIM + OUTPUT_DIM) * 2/3) # 2/3 rule\n",
    "print(f\"input dim={INPUT_DIM}, output dim={OUTPUT_DIM}, hidden={hidden_dim}\")"
   ]
  },
  {
   "cell_type": "code",
   "execution_count": null,
   "id": "2a98cce4",
   "metadata": {},
   "outputs": [],
   "source": [
    "from mlp import MLP\n",
    "\n",
    "mlp = MLP(INPUT_DIM, hidden_dim, OUTPUT_DIM)\n",
    "mlp = mlp.to(device)"
   ]
  },
  {
   "cell_type": "code",
   "execution_count": null,
   "id": "ae7cdd2f",
   "metadata": {},
   "outputs": [
    {
     "name": "stderr",
     "output_type": "stream",
     "text": [
      "Epoch 1 Iteration 49: loss 1.87118. : 100%|██████████| 49/49 [00:09<00:00,  5.40it/s]\n",
      "Epoch 2 Iteration 49: loss 1.77854. : 100%|██████████| 49/49 [00:08<00:00,  5.54it/s]\n",
      "Epoch 3 Iteration 49: loss 1.76290. : 100%|██████████| 49/49 [00:08<00:00,  5.70it/s]\n",
      "Epoch 4 Iteration 49: loss 1.74665. : 100%|██████████| 49/49 [00:08<00:00,  5.61it/s]\n",
      "Epoch 5 Iteration 49: loss 1.70097. : 100%|██████████| 49/49 [00:08<00:00,  5.67it/s]\n",
      "Epoch 6 Iteration 49: loss 1.62019. : 100%|██████████| 49/49 [00:08<00:00,  5.65it/s]\n",
      "Epoch 7 Iteration 49: loss 1.56460. : 100%|██████████| 49/49 [00:08<00:00,  5.49it/s]\n",
      "Epoch 8 Iteration 49: loss 1.61896. : 100%|██████████| 49/49 [00:08<00:00,  5.54it/s]\n",
      "Epoch 9 Iteration 49: loss 1.63349. : 100%|██████████| 49/49 [00:09<00:00,  5.44it/s]\n",
      "Epoch 10 Iteration 49: loss 1.55644. : 100%|██████████| 49/49 [00:09<00:00,  5.41it/s]\n"
     ]
    }
   ],
   "source": [
    "from train import train\n",
    "\n",
    "criterion = nn.CrossEntropyLoss()\n",
    "optimizer = torch.optim.Adam(mlp.parameters(), lr=LR)\n",
    "\n",
    "losses = train(mlp, NUM_EPOCHS, train_loader, device, criterion, optimizer)"
   ]
  },
  {
   "cell_type": "code",
   "execution_count": null,
   "id": "1424bb19",
   "metadata": {},
   "outputs": [],
   "source": [
    "from evaluate import test\n",
    "\n",
    "acc = test(mlp, eval_loader, device)"
   ]
  },
  {
   "cell_type": "code",
   "execution_count": 54,
   "id": "526770fc",
   "metadata": {},
   "outputs": [
    {
     "ename": "",
     "evalue": "",
     "output_type": "error",
     "traceback": [
      "\u001b[1;31mThe Kernel crashed while executing code in the current cell or a previous cell. \n",
      "\u001b[1;31mPlease review the code in the cell(s) to identify a possible cause of the failure. \n",
      "\u001b[1;31mClick <a href='https://aka.ms/vscodeJupyterKernelCrash'>here</a> for more info. \n",
      "\u001b[1;31mView Jupyter <a href='command:jupyter.viewOutput'>log</a> for further details."
     ]
    }
   ],
   "source": [
    "from visualize import plot_learning_curve\n",
    "\n",
    "plot_learning_curve(losses)"
   ]
  },
  {
   "cell_type": "markdown",
   "id": "57912dc4",
   "metadata": {},
   "source": [
    "### Simple CNN"
   ]
  },
  {
   "cell_type": "code",
   "execution_count": null,
   "id": "d40f5339",
   "metadata": {},
   "outputs": [],
   "source": [
    "# TODO"
   ]
  },
  {
   "cell_type": "markdown",
   "id": "dc9e3258",
   "metadata": {},
   "source": [
    "## Task 2 Analysis"
   ]
  },
  {
   "cell_type": "markdown",
   "id": "79a4e138",
   "metadata": {},
   "source": [
    "  - Compare the performance of both models: investigate their learning curves (train/eval loss), compare their test accuracy, and compute their confusion matrix\n",
    "  - Visualize some images, along with the predictions from your models. In what images do your models fail more often? Why do you think so?"
   ]
  },
  {
   "cell_type": "code",
   "execution_count": null,
   "id": "6c6a382b",
   "metadata": {},
   "outputs": [],
   "source": []
  },
  {
   "cell_type": "markdown",
   "id": "81c2b7e3",
   "metadata": {},
   "source": [
    "## Task 3 Mitigate Overfitting"
   ]
  },
  {
   "cell_type": "markdown",
   "id": "349c9051",
   "metadata": {},
   "source": [
    "  - Train both models with and without DropOut. Compare the results: training and validation loss, accuracy, ...\n",
    "  - Implement and use **your own** custom learning rate warmup and learning rate scheduler criterion to avoid overfitting.<br>\n",
    "    It is not allowed to use PyTorch's schedulers, but you should code your own.<br>\n",
    "    Train **one model** using it and show whether you can mitigate overfitting."
   ]
  },
  {
   "cell_type": "code",
   "execution_count": null,
   "id": "b2560b5c",
   "metadata": {},
   "outputs": [],
   "source": []
  }
 ],
 "metadata": {
  "kernelspec": {
   "display_name": "cuda",
   "language": "python",
   "name": "python3"
  },
  "language_info": {
   "codemirror_mode": {
    "name": "ipython",
    "version": 3
   },
   "file_extension": ".py",
   "mimetype": "text/x-python",
   "name": "python",
   "nbconvert_exporter": "python",
   "pygments_lexer": "ipython3",
   "version": "3.13.3"
  }
 },
 "nbformat": 4,
 "nbformat_minor": 5
}
