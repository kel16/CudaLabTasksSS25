{
 "cells": [
  {
   "cell_type": "code",
   "execution_count": null,
   "id": "3aac9fd3",
   "metadata": {},
   "outputs": [],
   "source": [
    "%load_ext autoreload\n",
    "%autoreload 2"
   ]
  },
  {
   "cell_type": "code",
   "execution_count": null,
   "id": "fa35f359",
   "metadata": {},
   "outputs": [],
   "source": [
    "# global imports\n",
    "import os\n",
    "import shutil\n",
    "# torch imports\n",
    "import torch\n",
    "import torch.nn as nn\n",
    "from torchvision import models, transforms\n",
    "from torch.utils.tensorboard import SummaryWriter\n",
    "# local imports\n",
    "from utils.show_grid import show_grid\n",
    "from train import train_model"
   ]
  },
  {
   "cell_type": "code",
   "execution_count": null,
   "id": "6b16a430",
   "metadata": {},
   "outputs": [],
   "source": [
    "device = torch.device(\"cuda\" if torch.cuda.is_available() else \"cpu\")\n",
    "print(torch.cuda.is_available())"
   ]
  },
  {
   "cell_type": "code",
   "execution_count": null,
   "id": "5a5b7737",
   "metadata": {},
   "outputs": [],
   "source": [
    "# global constant definitions\n",
    "EPOCHS = 5\n",
    "LR = 1e-4"
   ]
  },
  {
   "cell_type": "code",
   "execution_count": null,
   "id": "4a2d088b",
   "metadata": {},
   "outputs": [],
   "source": [
    "BASE_LOG_DIR = os.path.join(os.getcwd(), \"tboard_logs\")\n",
    "\n",
    "os.makedirs(BASE_LOG_DIR, exist_ok=True)"
   ]
  },
  {
   "cell_type": "markdown",
   "id": "7aa89402",
   "metadata": {},
   "source": [
    "## Task 1"
   ]
  },
  {
   "cell_type": "code",
   "execution_count": 1,
   "id": "24d51ba8",
   "metadata": {},
   "outputs": [
    {
     "name": "stdout",
     "output_type": "stream",
     "text": [
      "[]\n",
      "[Parameter containing:\n",
      "tensor([[ 0.3943,  1.5271,  0.1736, -1.9838,  1.3256],\n",
      "        [ 0.9634,  0.0702,  0.1957, -0.9444,  0.1295],\n",
      "        [-1.8169,  0.2076, -0.0217, -0.5670, -0.6296],\n",
      "        [-0.4238,  2.3497,  0.5403,  0.0851, -0.0119],\n",
      "        [ 0.5798,  1.0311, -0.2186,  0.4830, -1.2698]], requires_grad=True)]\n"
     ]
    }
   ],
   "source": [
    "import torch\n",
    "import torch.nn as nn\n",
    "\n",
    "class WrongLSTM(nn.Module):\n",
    "    def __init__(self):\n",
    "        super().__init__()\n",
    "        self.W = torch.randn(5, 5, requires_grad=True)  # НЕ параметр\n",
    "\n",
    "class CorrectLSTM(nn.Module):\n",
    "    def __init__(self):\n",
    "        super().__init__()\n",
    "        self.W = nn.Parameter(torch.randn(5, 5))  # Параметр\n",
    "\n",
    "model1 = WrongLSTM()\n",
    "model2 = CorrectLSTM()\n",
    "\n",
    "print(list(model1.parameters()))  # пусто\n",
    "print(list(model2.parameters()))  # есть W"
   ]
  },
  {
   "cell_type": "code",
   "execution_count": null,
   "id": "ccf86492",
   "metadata": {},
   "outputs": [],
   "source": []
  },
  {
   "cell_type": "code",
   "execution_count": null,
   "id": "2b16e2d1",
   "metadata": {},
   "outputs": [],
   "source": [
    "a"
   ]
  }
 ],
 "metadata": {
  "kernelspec": {
   "display_name": "Python 3 (ipykernel)",
   "language": "python",
   "name": "python3"
  },
  "language_info": {
   "codemirror_mode": {
    "name": "ipython",
    "version": 3
   },
   "file_extension": ".py",
   "mimetype": "text/x-python",
   "name": "python",
   "nbconvert_exporter": "python",
   "pygments_lexer": "ipython3",
   "version": "3.8.10"
  }
 },
 "nbformat": 4,
 "nbformat_minor": 5
}
