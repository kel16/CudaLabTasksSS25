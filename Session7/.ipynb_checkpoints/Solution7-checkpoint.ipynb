{
 "cells": [
  {
   "cell_type": "code",
   "execution_count": 1,
   "id": "f170e816",
   "metadata": {},
   "outputs": [],
   "source": [
    "%load_ext autoreload\n",
    "%autoreload 2"
   ]
  },
  {
   "cell_type": "code",
   "execution_count": 2,
   "id": "9652b045",
   "metadata": {},
   "outputs": [],
   "source": [
    "import os\n",
    "import random\n",
    "import math\n",
    "import shutil\n",
    "from tqdm import tqdm\n",
    "import numpy as np\n",
    "import matplotlib.pyplot as plt\n",
    "from torch.utils.tensorboard import SummaryWriter\n",
    "\n",
    "# torch\n",
    "import torch\n",
    "import torch.nn as nn\n",
    "import torch.nn.functional as F\n",
    "import torchvision\n",
    "from torchvision import datasets, models, transforms"
   ]
  },
  {
   "cell_type": "code",
   "execution_count": 3,
   "id": "a8bd6e47",
   "metadata": {},
   "outputs": [
    {
     "name": "stdout",
     "output_type": "stream",
     "text": [
      "True\n"
     ]
    }
   ],
   "source": [
    "device = torch.device(\"cuda\" if torch.cuda.is_available() else \"cpu\")\n",
    "print(torch.cuda.is_available())"
   ]
  },
  {
   "cell_type": "code",
   "execution_count": 4,
   "id": "4272db90",
   "metadata": {},
   "outputs": [],
   "source": [
    "BASE_LOG_DIR = os.path.join(os.getcwd(), \"tboard_logs\")\n",
    "\n",
    "os.makedirs(BASE_LOG_DIR, exist_ok=True)"
   ]
  },
  {
   "cell_type": "markdown",
   "id": "231d3ed4",
   "metadata": {},
   "source": [
    "## Task 1"
   ]
  },
  {
   "cell_type": "markdown",
   "id": "9b8b4a73",
   "metadata": {},
   "source": [
    "# Assignment 7\n",
    "\n",
    " 1. \"Action Recognition\" on the KTH-Actions dataset (same as from Assignment 3)\n",
    "    \n",
    "    - Use same settings as in that assignment\n",
    "    - Already downloaded in `/home/nfs/inf6/data/datasets/kth_actions`\n",
    "    - Use spatial dimensionality of frames of 64x64\n",
    "    - Split videos into subsequences of e.g. 10 frames. Treat each of these subsequences as independent.\n",
    "    - Feel free to use augmentations (temporal and/or spatial)\n",
    "\n",
    "<br>\n",
    "\n",
    " 2. Train a transformer for 'Action Recongition'\n",
    "     - Break each image into patches. You can decide on the pathc size\n",
    "     - Jointly process all patches from the sequence with your transformer\n",
    "     - Output a class prediction\n",
    "\n",
    "<br>\n",
    "\n",
    " 3. Evaluate your Transformer module:\n",
    "     - Compare at least 2 different patch sizes\n",
    "     - Compare with the performance of your RNN models from Assignment 3 (no need to retrain them)\n",
    "    "
   ]
  },
  {
   "cell_type": "code",
   "execution_count": 5,
   "id": "cd603de9",
   "metadata": {},
   "outputs": [],
   "source": [
    "DATA_FOLDER = '/home/nfs/inf6/data/datasets/kth_actions/raw'"
   ]
  },
  {
   "cell_type": "code",
   "execution_count": 10,
   "id": "cd27e9b7",
   "metadata": {},
   "outputs": [
    {
     "ename": "NameError",
     "evalue": "name 'KTHDataset' is not defined",
     "output_type": "error",
     "traceback": [
      "\u001b[0;31m---------------------------------------------------------------------------\u001b[0m",
      "\u001b[0;31mNameError\u001b[0m                                 Traceback (most recent call last)",
      "Cell \u001b[0;32mIn[10], line 2\u001b[0m\n\u001b[1;32m      1\u001b[0m \u001b[38;5;66;03m# TODO\u001b[39;00m\n\u001b[0;32m----> 2\u001b[0m train_dataset \u001b[38;5;241m=\u001b[39m \u001b[43mKTHDataset\u001b[49m(root_dir\u001b[38;5;241m=\u001b[39mDATA_FOLDER, train\u001b[38;5;241m=\u001b[39m\u001b[38;5;28;01mTrue\u001b[39;00m)\n\u001b[1;32m      3\u001b[0m test_dataset \u001b[38;5;241m=\u001b[39m KTHDataset(root_dir\u001b[38;5;241m=\u001b[39mDATA_FOLDER, train\u001b[38;5;241m=\u001b[39m\u001b[38;5;28;01mFalse\u001b[39;00m)\n",
      "\u001b[0;31mNameError\u001b[0m: name 'KTHDataset' is not defined"
     ]
    }
   ],
   "source": [
    "# TODO\n",
    "train_dataset = KTHDataset(root_dir=DATA_FOLDER, train=True)\n",
    "test_dataset = KTHDataset(root_dir=DATA_FOLDER, train=False)"
   ]
  },
  {
   "cell_type": "code",
   "execution_count": 8,
   "id": "7dbb41a8",
   "metadata": {},
   "outputs": [
    {
     "name": "stdout",
     "output_type": "stream",
     "text": [
      "Transformer-Block has 197760 parameters\n"
     ]
    },
    {
     "data": {
      "text/plain": [
       "TransformerBlock(\n",
       "  (ln_att): LayerNorm((128,), eps=1e-06, elementwise_affine=True)\n",
       "  (attn): MultiHeadSelfAttention(\n",
       "    (q): Linear(in_features=128, out_features=128, bias=False)\n",
       "    (k): Linear(in_features=128, out_features=128, bias=False)\n",
       "    (v): Linear(in_features=128, out_features=128, bias=False)\n",
       "    (out_proj): Linear(in_features=128, out_features=128, bias=False)\n",
       "  )\n",
       "  (ln_mlp): LayerNorm((128,), eps=1e-06, elementwise_affine=True)\n",
       "  (mlp): MLP(\n",
       "    (mlp): Sequential(\n",
       "      (0): Linear(in_features=128, out_features=512, bias=True)\n",
       "      (1): GELU(approximate='none')\n",
       "      (2): Linear(in_features=512, out_features=128, bias=True)\n",
       "    )\n",
       "  )\n",
       ")"
      ]
     },
     "execution_count": 8,
     "metadata": {},
     "output_type": "execute_result"
    }
   ],
   "source": [
    "from models.TransformerBlock import TransformerBlock\n",
    "from utils import count_model_params\n",
    "\n",
    "tf_block = TransformerBlock(\n",
    "        token_dim=128,\n",
    "        attn_dim=128,\n",
    "        num_heads=4,\n",
    "        mlp_size=512\n",
    "    ).to(device)\n",
    "\n",
    "print(f\"Transformer-Block has {count_model_params(tf_block)} parameters\")\n",
    "tf_block"
   ]
  },
  {
   "cell_type": "code",
   "execution_count": 9,
   "id": "40231cac",
   "metadata": {},
   "outputs": [
    {
     "name": "stdout",
     "output_type": "stream",
     "text": [
      "Input Shape: torch.Size([4, 16, 128])\n",
      "Output Shape: torch.Size([4, 16, 128])\n",
      "Attn. Map Shape: torch.Size([4, 4, 16, 16])\n"
     ]
    }
   ],
   "source": [
    "tokens = torch.rand((4, 16, 128), device=device)\n",
    "out = tf_block(tokens)\n",
    "attn_map = tf_block.get_attention_masks()\n",
    "\n",
    "print(f\"Input Shape: {tokens.shape}\")\n",
    "print(f\"Output Shape: {out.shape}\")\n",
    "print(f\"Attn. Map Shape: {attn_map.shape}\")"
   ]
  },
  {
   "cell_type": "code",
   "execution_count": null,
   "id": "b316660a",
   "metadata": {},
   "outputs": [],
   "source": []
  }
 ],
 "metadata": {
  "kernelspec": {
   "display_name": "Python 3 (ipykernel)",
   "language": "python",
   "name": "python3"
  },
  "language_info": {
   "codemirror_mode": {
    "name": "ipython",
    "version": 3
   },
   "file_extension": ".py",
   "mimetype": "text/x-python",
   "name": "python",
   "nbconvert_exporter": "python",
   "pygments_lexer": "ipython3",
   "version": "3.8.10"
  }
 },
 "nbformat": 4,
 "nbformat_minor": 5
}
